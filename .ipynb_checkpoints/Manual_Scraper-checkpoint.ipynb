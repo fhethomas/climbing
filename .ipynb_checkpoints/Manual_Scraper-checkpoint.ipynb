{
 "cells": [
  {
   "cell_type": "markdown",
   "metadata": {},
   "source": [
    "# Introduction\n",
    "\n",
    "This file has been created to automate extraction of images from a website. Unfortunately due to captcha issues we are unable to use Selenium, but data was obtained using keyboard and mouse manipulation."
   ]
  },
  {
   "cell_type": "code",
   "execution_count": 15,
   "metadata": {
    "collapsed": false
   },
   "outputs": [],
   "source": [
    "import pyautogui\n",
    "import time\n",
    "import pandas as pd"
   ]
  },
  {
   "cell_type": "code",
   "execution_count": 27,
   "metadata": {
    "collapsed": false
   },
   "outputs": [
    {
     "data": {
      "text/plain": [
       "(566, 46)"
      ]
     },
     "execution_count": 27,
     "metadata": {},
     "output_type": "execute_result"
    }
   ],
   "source": [
    "# image location (1107, 463)\n",
    "pyautogui.position()"
   ]
  },
  {
   "cell_type": "markdown",
   "metadata": {},
   "source": [
    "# Iterate over webpages\n",
    "The website we're scraping has data located over multiple pages. Have to iterate over them and download images and text"
   ]
  },
  {
   "cell_type": "code",
   "execution_count": null,
   "metadata": {
    "collapsed": false
   },
   "outputs": [],
   "source": []
  },
  {
   "cell_type": "code",
   "execution_count": 28,
   "metadata": {
    "collapsed": false
   },
   "outputs": [
    {
     "ename": "TypeError",
     "evalue": "locate() missing 1 required positional argument: 'haystackImage'",
     "output_type": "error",
     "traceback": [
      "\u001b[0;31m---------------------------------------------------------------------------\u001b[0m",
      "\u001b[0;31mTypeError\u001b[0m                                 Traceback (most recent call last)",
      "\u001b[0;32m<ipython-input-28-d2fd7a5ad25f>\u001b[0m in \u001b[0;36m<module>\u001b[0;34m()\u001b[0m\n\u001b[1;32m      3\u001b[0m \u001b[0mpyautogui\u001b[0m\u001b[1;33m.\u001b[0m\u001b[0mclick\u001b[0m\u001b[1;33m(\u001b[0m\u001b[0minterval\u001b[0m\u001b[1;33m=\u001b[0m\u001b[1;36m3\u001b[0m\u001b[1;33m)\u001b[0m\u001b[1;33m\u001b[0m\u001b[0m\n\u001b[1;32m      4\u001b[0m \u001b[1;31m#page_loop(0)\u001b[0m\u001b[1;33m\u001b[0m\u001b[1;33m\u001b[0m\u001b[0m\n\u001b[0;32m----> 5\u001b[0;31m \u001b[0mpyautogui\u001b[0m\u001b[1;33m.\u001b[0m\u001b[0mlocate\u001b[0m\u001b[1;33m(\u001b[0m\u001b[1;34m'download.png'\u001b[0m\u001b[1;33m)\u001b[0m\u001b[1;33m\u001b[0m\u001b[0m\n\u001b[0m",
      "\u001b[0;31mTypeError\u001b[0m: locate() missing 1 required positional argument: 'haystackImage'"
     ]
    }
   ],
   "source": [
    "# move to the right tab\n",
    "pyautogui.moveTo(851, 9)\n",
    "pyautogui.click(interval=3)"
   ]
  },
  {
   "cell_type": "code",
   "execution_count": 19,
   "metadata": {
    "collapsed": false
   },
   "outputs": [],
   "source": [
    "data = pd.read_excel('BaselineProblems.xlsm')"
   ]
  },
  {
   "cell_type": "code",
   "execution_count": 35,
   "metadata": {
    "collapsed": false,
    "scrolled": true
   },
   "outputs": [],
   "source": [
    "pyautogui.moveTo(851, 9)\n",
    "pyautogui.click(interval=3)\n",
    "for i,link in enumerate(data['Hyperlink']):\n",
    "    pyautogui.moveTo(566, 46)\n",
    "    pyautogui.click(interval=0.5)\n",
    "    pyautogui.press('delete')\n",
    "    pyautogui.typewrite(link)\n",
    "    pyautogui.press('enter')\n",
    "    time.sleep(10)\n",
    "    save_image(i)"
   ]
  },
  {
   "cell_type": "code",
   "execution_count": 30,
   "metadata": {
    "collapsed": true
   },
   "outputs": [],
   "source": [
    "def save_image(name,imag_save=(959, 405)):\n",
    "    # move to image - save with name\n",
    "    pyautogui.moveTo(imag_save)\n",
    "    pyautogui.click(button='right')\n",
    "    pyautogui.press('right')\n",
    "    pyautogui.moveRel(10,10)\n",
    "    pyautogui.press('enter',interval=2)\n",
    "    pyautogui.typewrite(str(name))\n",
    "    pyautogui.press('enter',pause=2)\n"
   ]
  },
  {
   "cell_type": "code",
   "execution_count": 36,
   "metadata": {
    "collapsed": true
   },
   "outputs": [],
   "source": [
    "data2 = pd.read_excel('Problems.xlsm')"
   ]
  },
  {
   "cell_type": "code",
   "execution_count": 43,
   "metadata": {
    "collapsed": false
   },
   "outputs": [],
   "source": [
    "pyautogui.moveTo(851, 9)\n",
    "pyautogui.click(interval=3)\n",
    "for i,link in enumerate(data2[data2.index>318]['Location']):\n",
    "    pyautogui.moveTo(566, 46)\n",
    "    pyautogui.click(interval=0.5)\n",
    "    pyautogui.press('delete')\n",
    "    pyautogui.typewrite(link)\n",
    "    pyautogui.press('enter')\n",
    "    time.sleep(10)\n",
    "    save_image(i+319)"
   ]
  },
  {
   "cell_type": "code",
   "execution_count": null,
   "metadata": {
    "collapsed": true
   },
   "outputs": [],
   "source": []
  }
 ],
 "metadata": {
  "kernelspec": {
   "display_name": "Python 3",
   "language": "python",
   "name": "python3"
  },
  "language_info": {
   "codemirror_mode": {
    "name": "ipython",
    "version": 3
   },
   "file_extension": ".py",
   "mimetype": "text/x-python",
   "name": "python",
   "nbconvert_exporter": "python",
   "pygments_lexer": "ipython3",
   "version": "3.5.2"
  }
 },
 "nbformat": 4,
 "nbformat_minor": 2
}
