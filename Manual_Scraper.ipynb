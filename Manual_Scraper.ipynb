{
 "cells": [
  {
   "cell_type": "markdown",
   "metadata": {},
   "source": [
    "# Introduction\n",
    "\n",
    "This file has been created to automate extraction of images from a website. Unfortunately due to captcha issues we are unable to use Selenium, but data was obtained using keyboard and mouse manipulation."
   ]
  },
  {
   "cell_type": "code",
   "execution_count": 208,
   "metadata": {
    "collapsed": false
   },
   "outputs": [],
   "source": [
    "import pyautogui"
   ]
  },
  {
   "cell_type": "code",
   "execution_count": 194,
   "metadata": {
    "collapsed": false
   },
   "outputs": [
    {
     "data": {
      "text/plain": [
       "(255, 632)"
      ]
     },
     "execution_count": 194,
     "metadata": {},
     "output_type": "execute_result"
    }
   ],
   "source": [
    "# image location (1107, 463)\n",
    "pyautogui.position()"
   ]
  },
  {
   "cell_type": "markdown",
   "metadata": {},
   "source": [
    "# Iterate over webpages\n",
    "The website we're scraping has data located over multiple pages. Have to iterate over them and download images and text"
   ]
  },
  {
   "cell_type": "code",
   "execution_count": 195,
   "metadata": {
    "collapsed": false
   },
   "outputs": [],
   "source": [
    "# dictionary of page locations i.e. page 1,2,3,4,+ more locations\n",
    "# these are stored like this as once it goes past the first set of 3 it is offset by 1\n",
    "dic={1:(256, 630),2:(280, 630),3:(314, 630),4:(344, 630),5:(377, 630)}"
   ]
  },
  {
   "cell_type": "code",
   "execution_count": null,
   "metadata": {
    "collapsed": false
   },
   "outputs": [],
   "source": [
    "first_page = True\n",
    "first_set = True\n",
    "page=1\n",
    "offset=0\n",
    "# iterate through the pages\n",
    "for i in range(1,160):\n",
    "    if first_page == True:\n",
    "        # move to the right tab\n",
    "        pyautogui.moveTo(445,15)\n",
    "        pyautogui.click(interval=3)\n",
    "        first_page=False\n",
    "    # loop through page and pull off images\n",
    "    page_loop(i)\n",
    "    pyautogui.moveTo(dic[page+offset])\n",
    "    pyautogui.click(interval=3)\n",
    "    # reset to the top of the page\n",
    "    reset_page()\n",
    "    page+=1\n",
    "    if page>4:\n",
    "        page = 1  \n",
    "    if i>3:\n",
    "        first_set=False\n",
    "        offset=1"
   ]
  },
  {
   "cell_type": "code",
   "execution_count": null,
   "metadata": {
    "collapsed": false
   },
   "outputs": [],
   "source": []
  },
  {
   "cell_type": "code",
   "execution_count": 213,
   "metadata": {
    "collapsed": false
   },
   "outputs": [],
   "source": [
    "def reset_page(scroll_location=(485,380)):\n",
    "    pyautogui.moveTo(scroll_location)\n",
    "    pyautogui.click(clicks=10)\n",
    "def page_loop(page,scroll_location=(485,600),click_location=(463,600)):\n",
    "    # loop through entries on the page:\n",
    "    for i in range(12):\n",
    "        pyautogui.moveTo(scroll_location)\n",
    "        pyautogui.click()\n",
    "        pyautogui.moveTo(click_location)\n",
    "        pyautogui.click()\n",
    "        copy_name_image(12*page+i)\n",
    "def copy_name_image(n,correct_tab=(445,15),highlight_text=(243,104),relative_highlight=(832,85),copy_tab=(562,748),browser_tab=(661,744),imag_save=(1107, 463)):\n",
    "    \"\"\"Saves images and copies text to excel\n",
    "    \"\"\"\n",
    "    # move to the right tab\n",
    "    pyautogui.moveTo(correct_tab)\n",
    "    pyautogui.click()\n",
    "    # highlight the title\n",
    "    pyautogui.moveTo(highlight_text)\n",
    "    pyautogui.dragRel(relative_highlight,duration=1)\n",
    "    # copy\n",
    "    pyautogui.keyDown('ctrl')\n",
    "    pyautogui.press('c')\n",
    "    pyautogui.keyUp('ctrl')\n",
    "    # move to excel\n",
    "    pyautogui.moveTo(copy_tab)\n",
    "    pyautogui.click()\n",
    "    pyautogui.keyDown('ctrl')\n",
    "    # paste\n",
    "    pyautogui.press('v')\n",
    "    pyautogui.keyUp('ctrl')\n",
    "    pyautogui.press('down')\n",
    "    pyautogui.keyDown('ctrl')\n",
    "    pyautogui.press('x')\n",
    "    pyautogui.keyUp('ctrl')\n",
    "    pyautogui.press('right')\n",
    "    pyautogui.press('up')\n",
    "    pyautogui.keyDown('ctrl')\n",
    "    pyautogui.press('v')\n",
    "    pyautogui.keyUp('ctrl')\n",
    "    pyautogui.press('right')\n",
    "    pyautogui.typewrite(str(n))\n",
    "    pyautogui.press('enter')\n",
    "    pyautogui.press('left')\n",
    "    pyautogui.press('left')\n",
    "    pyautogui.press('left')\n",
    "    pyautogui.press('left')\n",
    "    pyautogui.press('left')\n",
    "    pyautogui.press('left')\n",
    "    pyautogui.press('left')\n",
    "    # move to chrome\n",
    "    pyautogui.moveTo(browser_tab)\n",
    "    pyautogui.click()\n",
    "    # de-select highlighted text\n",
    "    pyautogui.moveTo(848, 125)\n",
    "    pyautogui.click()\n",
    "    # move to image - save with name\n",
    "    pyautogui.moveTo(imag_save)\n",
    "    pyautogui.click(button='right')\n",
    "    pyautogui.press('right')\n",
    "    pyautogui.moveRel(10,10)\n",
    "    pyautogui.press('enter',interval=2)\n",
    "    pyautogui.typewrite(str(n))\n",
    "    pyautogui.doubleClick(588, 153)\n",
    "    pyautogui.press('enter',pause=2)"
   ]
  },
  {
   "cell_type": "code",
   "execution_count": null,
   "metadata": {
    "collapsed": true
   },
   "outputs": [],
   "source": []
  }
 ],
 "metadata": {
  "kernelspec": {
   "display_name": "Python 3",
   "language": "python",
   "name": "python3"
  },
  "language_info": {
   "codemirror_mode": {
    "name": "ipython",
    "version": 3
   },
   "file_extension": ".py",
   "mimetype": "text/x-python",
   "name": "python",
   "nbconvert_exporter": "python",
   "pygments_lexer": "ipython3",
   "version": "3.5.2"
  }
 },
 "nbformat": 4,
 "nbformat_minor": 2
}
