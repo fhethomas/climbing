{
 "cells": [
  {
   "cell_type": "code",
   "execution_count": 1,
   "metadata": {
    "collapsed": false
   },
   "outputs": [],
   "source": [
    "from PIL import Image\n",
    "import os\n",
    "import numpy as np\n",
    "import pandas as pd\n",
    "import matplotlib.pyplot as plt\n",
    "import matplotlib.image as mpimg\n",
    "from sklearn.cluster import KMeans\n",
    "from mpl_toolkits.mplot3d import Axes3D\n",
    "from scipy import stats\n",
    "%matplotlib inline\n",
    "path = '.\\\\BaselineImages'\n",
    "list_image_files = os.listdir(path)"
   ]
  },
  {
   "cell_type": "markdown",
   "metadata": {},
   "source": [
    "# 1. Introduction\n",
    "On the Moonboard website there are a set of \"baseline\" problems, believed to be set and reviewed, so that they are the correct grade. These problems could be more consistent and better modelled through a regression algorithm, as they will have been reviewed by experts."
   ]
  },
  {
   "cell_type": "markdown",
   "metadata": {},
   "source": [
    "# 2. Conversion to V-Grades"
   ]
  },
  {
   "cell_type": "code",
   "execution_count": null,
   "metadata": {
    "collapsed": false,
    "scrolled": false
   },
   "outputs": [],
   "source": [
    "# get original scraped data from web\n",
    "data=pd.read_excel('BaselineProblems.xlsm',sheetname='Data')\n",
    "# get conversion from font to v-grade scale\n",
    "conversion=pd.read_excel('Moon2017_40degrees_test.xlsx',sheetname='Conversion')\n",
    "# Add V-grades to the dataframe\n",
    "m,n = data.shape\n",
    "v_grades = np.array([int(conversion[conversion['Font_Grade']==x]['V_Grade']) for x in data['Grade']])\n",
    "data['V_Grades'] = v_grades"
   ]
  },
  {
   "cell_type": "markdown",
   "metadata": {},
   "source": [
    "# 3. Identify number of Holds\n",
    "- Scraped data is formatted and saved into new excel workbook.\n",
    "- Amount of holds is identified of each type for each image"
   ]
  },
  {
   "cell_type": "code",
   "execution_count": 4,
   "metadata": {
    "collapsed": false
   },
   "outputs": [],
   "source": [
    "def hold_identify(path,image_name):\n",
    "    \"\"\"Function takes in path and image name and returns red,green,blue holds\n",
    "    Parameters\n",
    "    ----------\n",
    "    path : string\n",
    "        path of image file\n",
    "    image_name : string\n",
    "        image file name\n",
    "    Returns\n",
    "    ----------\n",
    "    [red,green,blue] : list of ints\n",
    "        red holds, green holds, blue holds\n",
    "    \"\"\"\n",
    "    imag = Image.open(\"{0}\\\\{1}\".format(path,image_name))\n",
    "    image_array = np.array(imag.getdata())\n",
    "    red = image_array[(image_array[:,0]==255)&(image_array[:,1]==0)&(image_array[:,2]==0)&(image_array[:,3]==255),:].shape\n",
    "    red = red[0]\n",
    "    red = int(red/1050)\n",
    "    green = image_array[(image_array[:,0]==0)&(image_array[:,1]==255)&(image_array[:,2]==0)&(image_array[:,3]==255),:].shape\n",
    "    green = green[0]\n",
    "    green = int(green/1050)\n",
    "    blue = image_array[(image_array[:,0]==0)&(image_array[:,1]==0)&(image_array[:,2]==255)&(image_array[:,3]==255),:].shape\n",
    "    blue = blue[0]\n",
    "    blue = int(blue/1050)\n",
    "    #print(list_image_files[i])\n",
    "    #print('Red: {0},Green: {1},Blue: {2}'.format(red,green,blue))\n",
    "    return [red,green,blue]"
   ]
  },
  {
   "cell_type": "code",
   "execution_count": 13,
   "metadata": {
    "collapsed": false
   },
   "outputs": [
    {
     "name": "stdout",
     "output_type": "stream",
     "text": [
      "run\n"
     ]
    }
   ],
   "source": [
    "# create an array of all the rgb holds\n",
    "rgb_array=[]\n",
    "for image in data['FileName']:\n",
    "    imag = '{0}'.format(image)\n",
    "    rgb_array.append(hold_identify(path,imag))\n",
    "rgb_array=np.array(rgb_array)\n",
    "print('run')\n",
    "# Add hold information to the dataframe\n",
    "data['red']=rgb_array[:,0]\n",
    "data['green']=rgb_array[:,1]\n",
    "data['blue']=rgb_array[:,2]\n",
    "data.head()\n",
    "# save to excel\n",
    "data.to_excel('BaselineProblems.xlsm')"
   ]
  },
  {
   "cell_type": "markdown",
   "metadata": {
    "collapsed": false
   },
   "source": [
    "# 4. Initial Data Summary\n",
    "- reload formatted data\n",
    "- histogram & boxplot of data"
   ]
  },
  {
   "cell_type": "code",
   "execution_count": 157,
   "metadata": {
    "collapsed": false
   },
   "outputs": [],
   "source": [
    "data = pd.read_excel('BaselineProblems.xlsm')"
   ]
  },
  {
   "cell_type": "code",
   "execution_count": 63,
   "metadata": {
    "collapsed": false
   },
   "outputs": [
    {
     "data": {
      "image/png": "[encoded data removed]",
      "text/plain": [
       "<matplotlib.figure.Figure at 0x222a6544ba8>"
      ]
     },
     "metadata": {},
     "output_type": "display_data"
    }
   ],
   "source": [
    "plt.hist(data['V_Grades'],bins=10)\n",
    "plt.title('Moonboard Histogram')\n",
    "plt.xlabel('V-Grade')\n",
    "plt.ylabel('Count')\n",
    "plt.show()"
   ]
  },
  {
   "cell_type": "markdown",
   "metadata": {
    "collapsed": true
   },
   "source": [
    "# 5. Additional Features Identification\n",
    "- Find key statistics for the problem (min distance, max distance, mean distance, median distance, range of distances, min & max angle between holds, mean angle)"
   ]
  },
  {
   "cell_type": "markdown",
   "metadata": {},
   "source": [
    "# 5.1 Data extraction function\n",
    "- Constructing an algorithm to extract key info"
   ]
  },
  {
   "cell_type": "code",
   "execution_count": 5,
   "metadata": {
    "collapsed": false
   },
   "outputs": [],
   "source": [
    "def get_image_data(path,image_name,hold_number):\n",
    "    \"\"\"\n",
    "    Parameters\n",
    "    -----------\n",
    "    path : folder of file location\n",
    "    image_name : file name image\n",
    "    Returns\n",
    "    -----------\n",
    "    stat_arr : array of statistical data in the format:\n",
    "    max_distance,mean_distance,std_distance,mean_angle\"\"\"\n",
    "    # step 1 load image\n",
    "    image_open = Image.open(\"{0}\\\\{1}\".format(path,image_name))\n",
    "    image_data = np.array(image_open.getdata())\n",
    "    # create relevant dictionaries for colours\n",
    "    rgb_dic = {'red' : [255,0,0,255],'green' : [0,255,0,255],'blue' : [0,0,255,255]}\n",
    "    # step 2 create binary array of image\n",
    "    image_binary = np.zeros(len(image_data))\n",
    "    for key in rgb_dic.keys():\n",
    "        image_binary[(image_data[:,0]==rgb_dic[key][0])&(image_data[:,1]==rgb_dic[key][1])&(image_data[:,2]==rgb_dic[key][2]) & (image_data[:,3]==rgb_dic[key][3])]=1\n",
    "    image_binary  = image_binary.reshape(image_open.height,image_open.width)\n",
    "    # step 3 locate centre of each cluster\n",
    "    # fit the pixel locations to a KMeans clustering model to find centre points\n",
    "    y,x=np.where(image_binary==1)\n",
    "    m=x.size\n",
    "    x=x.reshape(m,1)\n",
    "    y=y.reshape(m,1)\n",
    "    YX=np.concatenate((y,x),axis=1)\n",
    "    hold_kmeans=KMeans(n_clusters=hold_number)\n",
    "    hold_kmeans.fit(YX)\n",
    "    hold_ctr = hold_kmeans.cluster_centers_\n",
    "    # invert the height\n",
    "    hold_ctr[:,0]=1000-hold_ctr[:,0]\n",
    "    # sort by height\n",
    "    hold_ctr = hold_ctr[hold_ctr[:,0].argsort()]\n",
    "    # step 4 find distances and angles between each consecutive cluster (hold)\n",
    "    height,width = hold_ctr.shape\n",
    "    distance_l = []\n",
    "    angle_l = []\n",
    "    for h in range(height-1):\n",
    "        first = hold_ctr[h,:]\n",
    "        second = hold_ctr[h+1,:]\n",
    "        fs=np.abs(second-first)\n",
    "        o=fs[0]\n",
    "        a=fs[1]\n",
    "        distance = np.sqrt(o**2+a**2)\n",
    "        angle = np.degrees(np.arctan(o/a))\n",
    "        distance_l.append(distance)\n",
    "        angle_l.append(angle)\n",
    "    # step 5 output statistics\n",
    "    #max_distance,mean_distance,std_distance,mean_angle\n",
    "    stat_arr = np.array([[np.max(distance_l),np.mean(distance_l),np.std(distance_l),np.mean(angle_l)]])\n",
    "    return stat_arr"
   ]
  },
  {
   "cell_type": "markdown",
   "metadata": {
    "collapsed": true
   },
   "source": [
    "# 5.3 Data Extraction run"
   ]
  },
  {
   "cell_type": "code",
   "execution_count": 18,
   "metadata": {
    "collapsed": false
   },
   "outputs": [],
   "source": [
    "data['total_holds']=np.sum(data[['red','green','blue']],axis=1)\n",
    "# set index of data so that can easily select and join with other data later\n",
    "data=data.set_index('FileName')"
   ]
  },
  {
   "cell_type": "code",
   "execution_count": 20,
   "metadata": {
    "collapsed": false
   },
   "outputs": [
    {
     "name": "stderr",
     "output_type": "stream",
     "text": [
      "C:\\Users\\Frank\\Anaconda3\\lib\\site-packages\\ipykernel\\__main__.py:46: RuntimeWarning: divide by zero encountered in double_scalars\n"
     ]
    },
    {
     "name": "stdout",
     "output_type": "stream",
     "text": [
      "Result array constructed\n"
     ]
    }
   ],
   "source": [
    "# Loop through all entries from data  and apply algorithm to find max/mean/std data\n",
    "first = True\n",
    "for name in data.index:\n",
    "    hold_number = int(data[data.index==name]['total_holds'])\n",
    "    result = get_image_data(path,name,hold_number)\n",
    "    result = np.concatenate((np.array([[name]]),result),axis=1)\n",
    "    if first == True:\n",
    "        result_arr = result\n",
    "        first = False\n",
    "    else:\n",
    "        result_arr = np.concatenate((result_arr,result),axis=0)\n",
    "print('Result array constructed')"
   ]
  },
  {
   "cell_type": "code",
   "execution_count": null,
   "metadata": {
    "collapsed": false
   },
   "outputs": [],
   "source": [
    "result_df = pd.DataFrame(result_arr,columns=['Image_Name','Max_dist','Mean_dist','Std_dist','Mean_angle'])\n",
    "# set the indexes to match\n",
    "result_df=result_df.set_index(data.index)\n",
    "# drop the now unused Image_Name column from our data frame\n",
    "result_df = result_df.drop('Image_Name',axis=1)\n",
    "# concatenate the two dataframes together\n",
    "data=pd.concat((data,result_df),axis=1)\n",
    "# save the data to excel\n",
    "data.to_excel('BaselineProblems.xlsm')"
   ]
  },
  {
   "cell_type": "markdown",
   "metadata": {},
   "source": [
    "# 6. Logistic Regression\n",
    "- Can a logistic regression be used to suitably predict grades based on the data?"
   ]
  },
  {
   "cell_type": "markdown",
   "metadata": {},
   "source": [
    "# 6.1 Training"
   ]
  },
  {
   "cell_type": "code",
   "execution_count": 17,
   "metadata": {
    "collapsed": false
   },
   "outputs": [],
   "source": [
    "from sklearn.linear_model import LogisticRegression\n",
    "from sklearn.model_selection import train_test_split\n",
    "from sklearn.metrics import accuracy_score"
   ]
  },
  {
   "cell_type": "code",
   "execution_count": 30,
   "metadata": {
    "collapsed": true
   },
   "outputs": [],
   "source": [
    "logistic_regression = LogisticRegression()\n",
    "X_train, X_test, y_train, y_test = train_test_split(training_df, training_grade_df, test_size=0.33, random_state=42)\n",
    "logistic_regression.fit(X_train,y_train)\n",
    "prediction = logistic_regression.predict(X_test)"
   ]
  },
  {
   "cell_type": "markdown",
   "metadata": {},
   "source": [
    "# 6.2 Results\n",
    "Accuracy score of only 28.5%.This is lower than our first training set. There are less Baseline problems, which could result in less information to train the model on. However, if the problems were more accurate generally we would expect to see a marked increase in accuracy of the model. The fundamental problem of climbing grades appears to be their subjectivity."
   ]
  },
  {
   "cell_type": "code",
   "execution_count": 33,
   "metadata": {
    "collapsed": false
   },
   "outputs": [
    {
     "data": {
      "text/plain": [
       "0.2857142857142857"
      ]
     },
     "execution_count": 33,
     "metadata": {},
     "output_type": "execute_result"
    }
   ],
   "source": [
    "accuracy_score(y_test,prediction)"
   ]
  },
  {
   "cell_type": "markdown",
   "metadata": {
    "collapsed": true
   },
   "source": [
    "# 6.3 Next Steps\n",
    "- What features actually help with prediction?\n",
    "- What if climbing grades are non-linear?"
   ]
  },
  {
   "cell_type": "code",
   "execution_count": 122,
   "metadata": {
    "collapsed": false
   },
   "outputs": [],
   "source": [
    "# criteria we could use for model\n",
    "criteria_list = list(data.columns[5:])"
   ]
  },
  {
   "cell_type": "code",
   "execution_count": 158,
   "metadata": {
    "collapsed": false
   },
   "outputs": [
    {
     "name": "stdout",
     "output_type": "stream",
     "text": [
      "['0: red', '1: green', '2: blue', '3: total_holds', '4: Max_dist', '5: Mean_dist', '6: Std_dist', '7: Mean_angle', '8: hold_type_0', '9: hold_type_1', '10: hold_type_2', '11: hold_type_3', '12: hold_type_4']\n"
     ]
    },
    {
     "data": {
      "image/png": "[encoded data removed]",
      "text/plain": [
       "<matplotlib.figure.Figure at 0x222a08a2da0>"
      ]
     },
     "metadata": {},
     "output_type": "display_data"
    }
   ],
   "source": [
    "y = data['V_Grades']\n",
    "accuracy_log = []\n",
    "for i in range(len(criteria_list)):\n",
    "    # using less features\n",
    "    X=data[criteria_list[:i+1]].copy()\n",
    "    X_train, X_test, y_train, y_test = train_test_split(X, y, test_size=0.33, random_state=42)\n",
    "    log_reg = LogisticRegression()\n",
    "    log_reg.fit(X_train,y_train)\n",
    "    prediction = log_reg.predict(X_test)\n",
    "    accuracy_log.append(accuracy_score(y_test,prediction))\n",
    "ax = plt.subplot()\n",
    "fig = plt.plot(range(len(criteria_list)),accuracy_log,label='test accuracy')\n",
    "plt.plot(range(len(criteria_list)),np.ones(len(criteria_list))*0.2857142857142857,label='Previous accuracy')\n",
    "ax.set_ylabel('Accuracy')\n",
    "plt.legend(loc=4)\n",
    "print(['{0}: {1}'.format(x,data.columns[5:][x]) for x in range(len(data.columns[5:]))])"
   ]
  },
  {
   "cell_type": "markdown",
   "metadata": {},
   "source": [
    "Max Distance appears to be a good predictor, but mean distance and std distance are poor predictors. Mean Angle and Hold type 0 could add insight."
   ]
  },
  {
   "cell_type": "code",
   "execution_count": 141,
   "metadata": {
    "collapsed": false
   },
   "outputs": [
    {
     "name": "stdout",
     "output_type": "stream",
     "text": [
      "Accuracy score: 0.3968253968253968\n"
     ]
    }
   ],
   "source": [
    "y = data['V_Grades']\n",
    "# using less features\n",
    "X=data[['red','green','blue','total_holds','Max_dist','Mean_angle','hold_type_0']].copy()\n",
    "X_train, X_test, y_train, y_test = train_test_split(X, y, test_size=0.33, random_state=42)\n",
    "log_reg = LogisticRegression()\n",
    "log_reg.fit(X_train,y_train)\n",
    "prediction = log_reg.predict(X_test)\n",
    "print('Accuracy score: {0}'.format(accuracy_score(y_test,prediction)))"
   ]
  },
  {
   "cell_type": "markdown",
   "metadata": {},
   "source": [
    "Using a select few of the data points the model has been made more accurate.\n",
    "\n",
    "What if grading is non-linear? Will attempt to identify if there is an increase in accuracy by squaring each variable separately."
   ]
  },
  {
   "cell_type": "code",
   "execution_count": 150,
   "metadata": {
    "collapsed": false
   },
   "outputs": [
    {
     "name": "stdout",
     "output_type": "stream",
     "text": [
      "['0: red', '1: green', '2: blue', '3: total_holds', '4: Max_dist', '5: Mean_angle', '6: hold_type_0']\n"
     ]
    },
    {
     "data": {
      "image/png": "[encoded data removed]",
      "text/plain": [
       "<matplotlib.figure.Figure at 0x222a0b81470>"
      ]
     },
     "metadata": {},
     "output_type": "display_data"
    }
   ],
   "source": [
    "accuracy_log = []\n",
    "best_attributes = ['red','green','blue','total_holds','Max_dist','Mean_angle','hold_type_0']\n",
    "y = data['V_Grades']\n",
    "# using less features\n",
    "for i in range(len(best_attributes)):\n",
    "    X=data[best_attributes].copy()\n",
    "    X['attrib_sqr']=np.power(X[best_attributes[i]],2)\n",
    "    X_train, X_test, y_train, y_test = train_test_split(X, y, test_size=0.33, random_state=42)\n",
    "    log_reg = LogisticRegression()\n",
    "    log_reg.fit(X_train,y_train)\n",
    "    prediction = log_reg.predict(X_test)\n",
    "    accuracy_log.append(accuracy_score(y_test,prediction))\n",
    "ax = plt.subplot()\n",
    "fig = plt.plot(range(len(best_attributes)),accuracy_log,label='accuracy of squared attribute')\n",
    "plt.plot(range(len(best_attributes)),np.ones(len(best_attributes))*0.3968253968253968,label='accuracy of non squared model')\n",
    "ax.set_ylabel('Accuracy')\n",
    "ax.legend(loc=4)\n",
    "print(['{0}: {1}'.format(x,best_attributes[x]) for x in range(len(best_attributes))])"
   ]
  },
  {
   "cell_type": "markdown",
   "metadata": {},
   "source": [
    "Model shows a slight increase in accuracy when the green criteria is squared.\n",
    "\n",
    "If we apply this insight to the previous modelled data can we see an increase in accuracy? Original model accuracy was 41%."
   ]
  },
  {
   "cell_type": "code",
   "execution_count": 153,
   "metadata": {
    "collapsed": false
   },
   "outputs": [
    {
     "data": {
      "text/plain": [
       "Index(['Image_Name', 'Climb', 'Grade', 'Setter', 'V_Grades', 'red', 'green',\n",
       "       'blue', 'total_holds', 'Max_dist', 'Mean_dist', 'Std_dist',\n",
       "       'Mean_angle', 'hold_type_0', 'hold_type_1', 'hold_type_2',\n",
       "       'hold_type_3', 'hold_type_4'],\n",
       "      dtype='object')"
      ]
     },
     "execution_count": 153,
     "metadata": {},
     "output_type": "execute_result"
    }
   ],
   "source": [
    "data = pd.read_excel('formatted_climbing_data.xlsx')\n",
    "data.columns"
   ]
  },
  {
   "cell_type": "code",
   "execution_count": 155,
   "metadata": {
    "collapsed": false
   },
   "outputs": [
    {
     "name": "stdout",
     "output_type": "stream",
     "text": [
      "Accuracy score with best attributes: 0.4014084507042254\n",
      "Accuracy score with best attributes & green squared: 0.3873239436619718\n"
     ]
    }
   ],
   "source": [
    "y = data['V_Grades']\n",
    "X=data[best_attributes].copy()\n",
    "X_train, X_test, y_train, y_test = train_test_split(X, y, test_size=0.33, random_state=42)\n",
    "log_reg = LogisticRegression()\n",
    "log_reg.fit(X_train,y_train)\n",
    "prediction = log_reg.predict(X_test)\n",
    "print('Accuracy score with best attributes: {0}'.format(accuracy_score(y_test,prediction)))\n",
    "\n",
    "y = data['V_Grades']\n",
    "X=data[best_attributes].copy()\n",
    "X['green_sqr']=np.power(X['green'],2)\n",
    "X_train, X_test, y_train, y_test = train_test_split(X, y, test_size=0.33, random_state=42)\n",
    "log_reg = LogisticRegression()\n",
    "log_reg.fit(X_train,y_train)\n",
    "prediction = log_reg.predict(X_test)\n",
    "print('Accuracy score with best attributes & green squared: {0}'.format(accuracy_score(y_test,prediction)))\n"
   ]
  },
  {
   "cell_type": "markdown",
   "metadata": {},
   "source": [
    "This actually delivers a less accurate model than previously."
   ]
  },
  {
   "cell_type": "code",
   "execution_count": null,
   "metadata": {
    "collapsed": true
   },
   "outputs": [],
   "source": []
  }
 ],
 "metadata": {
  "kernelspec": {
   "display_name": "Python 3",
   "language": "python",
   "name": "python3"
  },
  "language_info": {
   "codemirror_mode": {
    "name": "ipython",
    "version": 3
   },
   "file_extension": ".py",
   "mimetype": "text/x-python",
   "name": "python",
   "nbconvert_exporter": "python",
   "pygments_lexer": "ipython3",
   "version": "3.5.2"
  }
 },
 "nbformat": 4,
 "nbformat_minor": 2
}
